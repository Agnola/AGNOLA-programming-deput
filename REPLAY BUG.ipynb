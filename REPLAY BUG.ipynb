{
 "cells": [
  {
   "cell_type": "code",
   "execution_count": 14,
   "metadata": {},
   "outputs": [],
   "source": [
    "from IPython.display import clear_output\n",
    "\n",
    "def display_board(board):\n",
    "    \n",
    "    print(f'{board[7]}' + '|' + ' 'f' {board[8]} '  + '|' + ' 'f' {board[9]}')\n",
    "    print(f'{board[4]}' + '|' + ' 'f' {board[5]} '  + '|' + ' 'f' {board[6]}')\n",
    "    print(f'{board[1]}' + '|' + ' 'f' {board[2]} '  + '|' + ' 'f' {board[3]}')\n",
    "    "
   ]
  },
  {
   "cell_type": "code",
   "execution_count": 15,
   "metadata": {},
   "outputs": [],
   "source": [
    "def player_input():\n",
    "    marker = ''\n",
    "    while not (marker == 'X' or marker == 'O'):\n",
    "        marker = input('Please pick between X and O: ').upper()\n",
    "    if marker == 'X':\n",
    "        return ('X', 'O')\n",
    "    else:\n",
    "        return ('O', 'X')"
   ]
  },
  {
   "cell_type": "code",
   "execution_count": 16,
   "metadata": {},
   "outputs": [],
   "source": [
    "def place_marker(board, marker, position):\n",
    "    board[position] = marker \n",
    "    "
   ]
  },
  {
   "cell_type": "code",
   "execution_count": 17,
   "metadata": {},
   "outputs": [],
   "source": [
    "def win_check(board, mark):\n",
    "    if (board[1] == board[2] == board[3] == mark) or(board[4] == board[5] == board[6] == mark) or (board[7] == board[8] == board[9] == mark) or(board[1] == board[4] == board[7] == mark) or(board[2] == board[5] == board[8] == mark) or(board[3] == board[6] == board[9] == mark) or(board[7] == board[5] == board[3] == mark) or(board[9] == board[5] == board[1] == mark):\n",
    "        return True\n",
    "    "
   ]
  },
  {
   "cell_type": "code",
   "execution_count": 18,
   "metadata": {},
   "outputs": [],
   "source": [
    "import random\n",
    "from random import randint\n",
    "\n",
    "def choose_first():\n",
    "    dice = randint(1,6)\n",
    "    if dice in range(1,4):\n",
    "        return \"Player 1\"\n",
    "    else:\n",
    "        return \"Player 2\""
   ]
  },
  {
   "cell_type": "code",
   "execution_count": 19,
   "metadata": {},
   "outputs": [],
   "source": [
    "def space_check(board, position):\n",
    "    if board[position] == ' ':\n",
    "        return True"
   ]
  },
  {
   "cell_type": "code",
   "execution_count": 20,
   "metadata": {},
   "outputs": [],
   "source": [
    "def full_board_check(board):\n",
    "    for i in range(1,10):\n",
    "        if space_check(board, i):\n",
    "            return False\n",
    "    return True"
   ]
  },
  {
   "cell_type": "code",
   "execution_count": 21,
   "metadata": {},
   "outputs": [],
   "source": [
    "def player_choice(board):\n",
    "    position = 0\n",
    "    \n",
    "    while position not in [1,2,3,4,5,6,7,8,9] or not space_check(board, position):\n",
    "        position = int(input('Choose your next position: (1-9) '))\n",
    "        \n",
    "    return position"
   ]
  },
  {
   "cell_type": "code",
   "execution_count": 22,
   "metadata": {},
   "outputs": [],
   "source": [
    "def replay():\n",
    "    answer = 'yes'\n",
    "    if input('Do you want to replay? ') == answer.lower().startswith('y'):\n",
    "        \n",
    "        return True\n",
    "    "
   ]
  },
  {
   "cell_type": "code",
   "execution_count": 23,
   "metadata": {},
   "outputs": [
    {
     "name": "stdout",
     "output_type": "stream",
     "text": [
      "Welcome to Tic Tac Toe!\n",
      "Please pick between X and O: x\n",
      "Player 1 gets to go first!\n",
      "Are you ready to start? Enter Yes or Noyes\n",
      " |    |   \n",
      " |    |   \n",
      " |    |   \n",
      "Choose your next position: (1-9) 1\n",
      " |    |   \n",
      " |    |   \n",
      "X|    |   \n",
      "Choose your next position: (1-9) 2\n",
      " |    |   \n",
      " |    |   \n",
      "X|  O |   \n",
      "Choose your next position: (1-9) 5\n",
      " |    |   \n",
      " |  X |   \n",
      "X|  O |   \n",
      "Choose your next position: (1-9) 3\n",
      " |    |   \n",
      " |  X |   \n",
      "X|  O |  O\n",
      "Choose your next position: (1-9) 9\n",
      " |    |  X\n",
      " |  X |   \n",
      "X|  O |  O\n",
      "Congratulations, Player 1 have won!\n",
      "Do you want to replay? yes\n"
     ]
    }
   ],
   "source": [
    "print('Welcome to Tic Tac Toe!')\n",
    "\n",
    "\n",
    "while True:\n",
    "    theBoard = [' ']*10\n",
    "    player1_marker, player2_marker = player_input()\n",
    "    turn = choose_first()\n",
    "    print(turn + ' gets to go first!')\n",
    "    \n",
    "    play_game = input('Are you ready to start? Enter Yes or No')\n",
    "    \n",
    "    if play_game[0].lower() == 'y':\n",
    "        game_on = True\n",
    "    else:\n",
    "        game_on = False\n",
    "        \n",
    "    while game_on: \n",
    "        if turn == 'Player 1':\n",
    "            \n",
    "            #Show the board\n",
    "            display_board(theBoard)\n",
    "            \n",
    "            #Choose the position\n",
    "            position = player_choice(theBoard)\n",
    "            \n",
    "            #Place the marker\n",
    "            place_marker(theBoard, player1_marker, position)\n",
    "        \n",
    "        \n",
    "        \n",
    "            if win_check(theBoard, player1_marker):\n",
    "                display_board(theBoard)\n",
    "                print('Congratulations, Player 1 have won!')\n",
    "                game_on= False\n",
    "            else:\n",
    "                if full_board_check(theBoard):\n",
    "                    display_board(theBoard)\n",
    "                    print('This is a draw!')\n",
    "                    break\n",
    "                else: \n",
    "                    turn = 'Player 2'\n",
    "                    \n",
    "        #Player 2's turn\n",
    "        else:\n",
    "            display_board(theBoard)\n",
    "            position = player_choice(theBoard)\n",
    "            place_marker(theBoard, player2_marker, position)\n",
    "            \n",
    "            if win_check(theBoard, player2_marker):\n",
    "                display_board(theBoard)\n",
    "                print('Congratulations, Player 2 have won!')\n",
    "                game_on= False\n",
    "            else:\n",
    "                if full_board_check(theBoard):\n",
    "                    display_board(theBoard)\n",
    "                    print('This is a draw!')\n",
    "                    break\n",
    "                else: \n",
    "                    turn = 'Player 1'\n",
    "                    \n",
    "                    \n",
    "    if not replay():\n",
    "        \n",
    "        break\n",
    "        "
   ]
  },
  {
   "cell_type": "markdown",
   "metadata": {},
   "source": [
    "### "
   ]
  },
  {
   "cell_type": "code",
   "execution_count": null,
   "metadata": {},
   "outputs": [],
   "source": []
  }
 ],
 "metadata": {
  "kernelspec": {
   "display_name": "Python 3",
   "language": "python",
   "name": "python3"
  },
  "language_info": {
   "codemirror_mode": {
    "name": "ipython",
    "version": 3
   },
   "file_extension": ".py",
   "mimetype": "text/x-python",
   "name": "python",
   "nbconvert_exporter": "python",
   "pygments_lexer": "ipython3",
   "version": "3.6.5"
  }
 },
 "nbformat": 4,
 "nbformat_minor": 2
}
